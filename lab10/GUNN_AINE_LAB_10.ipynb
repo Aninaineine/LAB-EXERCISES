{
 "cells": [
  {
   "cell_type": "markdown",
   "id": "40ca9ce3",
   "metadata": {},
   "source": [
    "GUI ONE: QUOTE MENU (5pts)\n",
    "\n",
    "\n",
    "I managed to get everything working the way I wanted! The only caveat is that the reset 'function' isn't in the GUI, it looks like it requires some more complex library pulls for the computer's system to be able to shut down the cell via a button. For now, simply closing the window and running again pulls up a new set of authors!"
   ]
  },
  {
   "cell_type": "code",
   "execution_count": 56,
   "id": "a2622365",
   "metadata": {},
   "outputs": [],
   "source": [
    "import requests\n",
    "from tkinter import *\n",
    "from tkinter import font\n",
    "import tkinter as tk\n",
    "\n",
    "root = Tk()\n",
    "root.geometry(\"400x400\")\n",
    "root.title = \"Quote Central bby\"\n",
    "\n",
    "url = \"https://api.quotable.io/random\"\n",
    "quote1 =  requests.get(url).json()\n",
    "quote2 =  requests.get(url).json()\n",
    "quote3 =  requests.get(url).json()\n",
    "quote4 =  requests.get(url).json()\n",
    "quote5 =  requests.get(url).json()\n",
    "    \n",
    "content1  = quote1['content']\n",
    "content2  = quote2['content']\n",
    "content3  = quote3['content']\n",
    "content4  = quote4['content']\n",
    "content5  = quote5['content']\n",
    "\n",
    "author1 = quote1['author']\n",
    "author2 = quote2['author']\n",
    "author3 = quote3['author']\n",
    "author4 = quote4['author']\n",
    "author5 = quote5['author']\n",
    "\n",
    "pairdict = {author1:content1,author2:content2,author3:content3,author4:content4,author5:content5}\n",
    "\n",
    "authors = [author1,author2,author3,author4,author5]\n",
    "\n",
    "choice = StringVar()\n",
    "choice.set(\"Select an Author\")\n",
    "\n",
    "def author_choice():\n",
    "    r = choice.get()\n",
    "    result = pairdict[r]\n",
    "    labres = Label(root,text = f\"{r}'s Quote: '{result}'\",font = \"courier\", justify = 'center',bg = \"#b6cc9b\", fg = \"#1f3603\", wraplength = 200,relief=SUNKEN)\n",
    "    labres.pack()\n",
    "\n",
    "menu = OptionMenu(root,choice,*authors)\n",
    "menu.pack()\n",
    "\n",
    "buttonchoose = Button(root,text = \"Reveal Quote\",command = author_choice, font = \"courier\")\n",
    "buttonchoose.pack()\n",
    "\n",
    "\n",
    "\n",
    "root.mainloop()"
   ]
  },
  {
   "cell_type": "markdown",
   "id": "73317ffd",
   "metadata": {},
   "source": [
    "GUI TWO: WEATHER APP (5pts)"
   ]
  },
  {
   "cell_type": "code",
   "execution_count": 80,
   "id": "399339ce",
   "metadata": {
    "scrolled": false
   },
   "outputs": [
    {
     "name": "stdout",
     "output_type": "stream",
     "text": [
      "Pick a City:Binghamton\n",
      "Overnight\n",
      "50\n",
      "A chance of rain showers before 1am, then showers and thunderstorms. Cloudy, with a low around 50. South wind 7 to 10 mph. Chance of precipitation is 80%. New rainfall amounts between a tenth and quarter of an inch possible.\n",
      "Monday\n",
      "60\n",
      "Rain showers likely before 1pm. Mostly cloudy, with a high near 60. West wind 3 to 10 mph, with gusts as high as 21 mph. Chance of precipitation is 70%. New rainfall amounts between a quarter and half of an inch possible.\n",
      "Monday Night\n",
      "40\n",
      "A chance of rain showers before 2am. Mostly cloudy, with a low around 40. Southwest wind around 9 mph. Chance of precipitation is 50%. New rainfall amounts less than a tenth of an inch possible.\n",
      "Tuesday\n",
      "50\n",
      "A chance of rain showers after 7am. Partly sunny, with a high near 50. West wind around 10 mph. Chance of precipitation is 50%. New rainfall amounts less than a tenth of an inch possible.\n",
      "Tuesday Night\n",
      "33\n",
      "A chance of rain showers before 11pm, then a slight chance of rain and snow showers. Mostly cloudy, with a low around 33. West wind 6 to 9 mph. Chance of precipitation is 50%.\n",
      "Wednesday\n",
      "54\n",
      "A slight chance of snow showers before 8am. Partly sunny, with a high near 54. Chance of precipitation is 20%.\n",
      "Wednesday Night\n",
      "35\n",
      "A slight chance of rain showers after 2am. Partly cloudy, with a low around 35.\n",
      "Thursday\n",
      "64\n",
      "A slight chance of rain showers before 8am. Partly sunny, with a high near 64.\n",
      "Thursday Night\n",
      "46\n",
      "A slight chance of rain showers after 8pm. Mostly cloudy, with a low around 46.\n",
      "Friday\n",
      "73\n",
      "A slight chance of rain showers before 2pm, then a chance of showers and thunderstorms. Partly sunny, with a high near 73. Chance of precipitation is 40%.\n",
      "Friday Night\n",
      "48\n",
      "Showers and thunderstorms likely. Mostly cloudy, with a low around 48. Chance of precipitation is 60%.\n",
      "Saturday\n",
      "63\n",
      "Rain showers likely. Mostly cloudy, with a high near 63. Chance of precipitation is 70%.\n",
      "Saturday Night\n",
      "42\n",
      "Rain showers likely. Mostly cloudy, with a low around 42. Chance of precipitation is 70%.\n",
      "Sunday\n",
      "56\n",
      "A chance of rain showers. Partly sunny, with a high near 56. Chance of precipitation is 40%.\n"
     ]
    }
   ],
   "source": [
    "import requests\n",
    "from tkinter import *\n",
    "from tkinter import font\n",
    "import tkinter as tk\n",
    "from geopy.geocoders import Nominatim\n",
    "\n",
    "root = Tk()\n",
    "root.geometry(\"400x400\")\n",
    "root.title = \"Weather\"\n",
    "\n",
    "\n",
    "\n",
    "geolocator = Nominatim(user_agent= \"HARP151 Weather App - (agunn2@binghamton.edu)\")\n",
    "location = geolocator.geocode(input(\"Pick a City:\"))\n",
    "address = location.address\n",
    "lat = location.latitude\n",
    "lon = location.longitude\n",
    "\n",
    "url1 = f\"https://api.weather.gov/points/{lat},{lon}\"\n",
    "\n",
    "grids = requests.get(url1).json()\n",
    "#print(grids)\n",
    "gridx = grids[\"properties\"]['gridX']\n",
    "gridy = grids[\"properties\"]['gridY']\n",
    "office = grids[\"properties\"][\"gridId\"]\n",
    "\n",
    "url2 = f\"https://api.weather.gov/gridpoints/{office}/{gridx},{gridy}/forecast\"\n",
    "\n",
    "weatherdata = requests.get(url2).json()\n",
    "#print(weatherdata)\n",
    "\n",
    "prop = weatherdata['properties']\n",
    "\n",
    "period = prop['periods']\n",
    "\n",
    "\n",
    "for i in period:\n",
    "    day = i['name']\n",
    "    print(day)\n",
    "    header = Label(root, text = f\"{day}\")\n",
    "    header.pack()\n",
    "    temp = i['temperature']\n",
    "    print(temp)\n",
    "    temperature = Label(root, text = f\"{temp} degrees Farenheight\")\n",
    "    temperature.pack()\n",
    "    descforecast = i['detailedForecast']\n",
    "    description = Label(root, text = f\"{descforecast}\")\n",
    "    description.pack()\n",
    "    print(descforecast)\n",
    "    \n",
    "\n",
    "    \n",
    "\n",
    "\n",
    "\n",
    "root.mainloop()"
   ]
  },
  {
   "cell_type": "code",
   "execution_count": 16,
   "id": "e8fc2c77",
   "metadata": {
    "scrolled": true
   },
   "outputs": [
    {
     "name": "stdout",
     "output_type": "stream",
     "text": [
      "{'14th Dalai Lama': 'The 14th Dalai Lama (né Lhamo Thondup), known as Gyalwa Rinpoche to the Tibetan people, is the current Dalai Lama, the highest spiritual leader and former head of state of Tibet. Born on 6 July 1935, or in the Tibetan calendar, in the Wood-Pig Year, 5th month, 5th day. He is considered a living Bodhisattva; specifically, an emanation of Avalokiteśvara in Sanskrit and Chenrezig in Tibetan.', 'A. A. Milne': 'Alan Alexander Milne (18 January 1882 – 31 January 1956) was an English author, best known for his books about the teddy bear Winnie-the-Pooh and for various poems. Milne was a noted writer, primarily as a playwright, before the huge success of Pooh overshadowed all his previous work.', 'A. P. J. Abdul Kalam': 'Avul Pakir Jainulabdeen Abdul Kalam (15 October 1931 – 27 July 2015) was an aerospace scientist who served as the 11th President of India from 2002 to 2007.', 'A. Powell Davies': 'Arthur Powell Davies (June 5, 1902 – September 26, 1957) was the minister of All Souls Church, Unitarian in Washington, D.C. from 1944 until his death in 1957. A prolific author of theological books and sermon collections, he came to national prominence in the U.S. through his liberal activism advocating civil rights for African-Americans and women.', 'Abigail Adams': 'Abigail Adams (November 22, [O.S. November 11] 1744 – October 28, 1818) was the wife and closest advisor of John Adams, as well as the mother of John Quincy Adams. She is sometimes considered to have been a Founder of the United States, and is now designated as the first Second Lady and second First Lady of the United States, although these titles were not used at the time.', 'Abraham Lincoln': 'Abraham Lincoln (February 12, 1809 – April 15, 1865) was an American statesman and lawyer who served as the 16th president of the United States (1861–1865). Lincoln led the nation through its greatest moral, constitutional, and political crisis in the American Civil War.', 'Abraham Maslow': \"Abraham Harold Maslow (April 1, 1908 – June 8, 1970) was an American psychologist who was best known for creating Maslow's hierarchy of needs, a theory of psychological health predicated on fulfilling innate human needs in priority, culminating in self-actualization.\", 'Adam Smith': 'Adam Smith (baptized 16 June 1723 – 17 July 1790) was a Scottish economist and philosopher who was a pioneer of political economy and key figure during the Scottish Enlightenment. Also known as \"The Father of Economics\" or \"The Father of Capitalism\", he wrote two classic works, The Theory of Moral Sentiments (1759) and An Inquiry into the Nature and Causes of the Wealth of Nations (1776). The latter, often abbreviated as The Wealth of Nations, is considered his magnum opus and the first modern work of economics.', 'Aeschylus': \"Aeschylus was an ancient Greek author of Greek tragedy, and is often described as the father of tragedy. Academics' knowledge of the genre begins with his work, and understanding of earlier Greek tragedy is largely based on inferences made from reading his surviving plays.\", 'Aesop': \"Aesop (c. 620 – 564 BCE) was a Greek fabulist and storyteller credited with a number of fables now collectively known as Aesop's Fables.\", 'Afrika Bambaataa': 'Afrika Bambaataa (born Lance Taylor; April 17, 1957) is an American disc jockey, rapper, songwriter and producer from the South Bronx, New York. He is notable for releasing a series of genre-defining electro tracks in the 1980s that influenced the development of hip hop culture.', 'Agatha Christie': \"Dame Agatha Mary Clarissa Christie, Lady Mallowan,  (15 September 1890 – 12 January 1976) was an English writer known for her 66 detective novels and 14 short story collections, particularly those revolving around fictional detectives Hercule Poirot and Miss Marple. She also wrote the world's longest-running play The Mousetrap and six romances under the pen name Mary Westmacott.\", 'Akhenaten': 'Akhenaten, known before the fifth year of his reign as Amenhotep IV, was an ancient Egyptian pharaoh of the 18th Dynasty, who ruled for 17 years and died perhaps in 1336 BC or 1334 BC. ', 'Alan Cohen': 'Alan Phillip Cohen (born October 5, 1954) is an American businessman, best known for his ownership of the Florida Panthers hockey team and his founding of several pharmaceutical companies. Cohen holds several degrees from the University of Florida.', 'Alan Watts': 'Alan Wilson Watts (6 January 1915 – 16 November 1973) was a British writer and lecturer who interpreted and popularised Eastern philosophy and religion for a Western audience. Born in Chislehurst, England, he moved to the United States in 1938 and began Zen training in New York.', 'Albert Camus': 'Albert Camus (7 November 1913 – 4 January 1960) was a French philosopher, author, and journalist. He won the Nobel Prize in Literature at the age of 44 in 1957, the second-youngest recipient in history.', 'Albert Einstein': 'Albert Einstein (14 March 1879 – 18 April 1955) was a German-born theoretical physicist who developed the theory of relativity, one of the two pillars of modern physics (alongside quantum mechanics). His work is also known for its influence on the philosophy of science.', 'Albert Schweitzer': 'Albert Schweitzer  (14 January 1875 – 4 September 1965) was an Alsatian polymath. He was a theologian, organist, writer, humanitarian, philosopher, and physician.', 'Aldous Huxley': 'Aldous Leonard Huxley (26 July 1894 – 22 November 1963) was an English writer and philosopher. He wrote nearly fifty books—both novels and non-fiction works—as well as wide-ranging essays, narratives, and poems.', 'Alexander Chalmers': 'For the mayor of Warsaw of the same name, see Alexander Chalmers (mayor of Warsaw).  Alexander Chalmers (29 March 1759 – 29 December 1834) was a Scottish writer.'}\n"
     ]
    }
   ],
   "source": [
    "\n",
    "url = \"https://api.quotable.io/authors?sortBy=name\"\n",
    "\n",
    "authors = requests.get(url).json()\n",
    "#print(authors['results'])\n",
    "\n",
    "authornames = authors['results']\n",
    "authordict = {}\n",
    "\n",
    "for i in authornames:\n",
    "    name = i['name']\n",
    "    bio = i['bio']\n",
    "#     print(name)\n",
    "#     print(bio)\n",
    "    authordict[name] = bio\n",
    "    \n",
    "print(authordict)"
   ]
  },
  {
   "cell_type": "code",
   "execution_count": 50,
   "id": "572e95d3",
   "metadata": {},
   "outputs": [
    {
     "name": "stdout",
     "output_type": "stream",
     "text": [
      "Collecting geopy\n",
      "  Downloading geopy-2.3.0-py3-none-any.whl (119 kB)\n",
      "Collecting geographiclib<3,>=1.52\n",
      "  Downloading geographiclib-2.0-py3-none-any.whl (40 kB)\n",
      "Installing collected packages: geographiclib, geopy\n",
      "Successfully installed geographiclib-2.0 geopy-2.3.0\n",
      "Note: you may need to restart the kernel to use updated packages.\n"
     ]
    },
    {
     "name": "stderr",
     "output_type": "stream",
     "text": [
      "WARNING: Retrying (Retry(total=4, connect=None, read=None, redirect=None, status=None)) after connection broken by 'ProtocolError('Connection aborted.', ConnectionResetError(10054, 'An existing connection was forcibly closed by the remote host', None, 10054, None))': /simple/geopy/\n"
     ]
    }
   ],
   "source": [
    "pip install geopy"
   ]
  },
  {
   "cell_type": "code",
   "execution_count": null,
   "id": "d014f2ef",
   "metadata": {},
   "outputs": [],
   "source": []
  }
 ],
 "metadata": {
  "kernelspec": {
   "display_name": "Python 3 (ipykernel)",
   "language": "python",
   "name": "python3"
  },
  "language_info": {
   "codemirror_mode": {
    "name": "ipython",
    "version": 3
   },
   "file_extension": ".py",
   "mimetype": "text/x-python",
   "name": "python",
   "nbconvert_exporter": "python",
   "pygments_lexer": "ipython3",
   "version": "3.9.12"
  }
 },
 "nbformat": 4,
 "nbformat_minor": 5
}
